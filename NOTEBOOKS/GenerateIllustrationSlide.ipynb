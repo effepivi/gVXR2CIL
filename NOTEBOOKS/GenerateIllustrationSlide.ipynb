{
 "cells": [
  {
   "cell_type": "markdown",
   "metadata": {
    "colab_type": "text",
    "id": "view-in-github"
   },
   "source": [
    "<a href=\"https://colab.research.google.com/github/effepivi/gvxr-tutorials/blob/main/gVXR2CIL/NOTEBOOKS/GenerateIllustrationSlide.ipynb\" target=\"_parent\"><img src=\"https://colab.research.google.com/assets/colab-badge.svg\" alt=\"Open In Colab\"/></a>"
   ]
  },
  {
   "cell_type": "markdown",
   "metadata": {
    "id": "8sa2rJkkfg2p"
   },
   "source": [
    "? \n",
    "\n",
    "<!-- # Session 7\n",
    "\n",
    "## Simulating X-ray images with specific Poisson noise using ![gVXR](https://github.com/effepivi/gvxr-tutorials/blob/main/img/gvxr_logo.png?raw=1)\n",
    "\n",
    "## Author: Franck Vidal\n",
    "\n",
    "(version 1.0, 10 Mar 2023) -->"
   ]
  },
  {
   "cell_type": "markdown",
   "metadata": {
    "id": "lO3Yh237fg2r"
   },
   "source": [
    "?\n",
    "\n",
    "<!-- # Aims of this session\n",
    "\n",
    "1. Add Poisson noise corresponding to a given number of photons per pixel;\n",
    "2. Simulate the corresponding CT scan; and\n",
    "3. Reconstruct the CT volume using the [Core Imaging Library (CIL)](https://ccpi.ac.uk/cil/). -->"
   ]
  },
  {
   "cell_type": "markdown",
   "metadata": {
    "id": "01SeDuOYfg2s"
   },
   "source": [
    "?\n",
    "\n",
    "<!-- # Main steps\n",
    "\n",
    "1. Simulate an X-ray projection of a Welsh dragon made of quartz\n",
    "\n",
    "![Simulation of an X-ray projection of a Welsh dragon made of quartz](https://github.com/effepivi/gvxr-tutorials/blob/main/PoissonNoise/visualisation.png?raw=1)\n",
    "\n",
    "2. Select the number of incident photons per pixel\n",
    "3. Add the corresponding amount of Photonic noise \n",
    "\n",
    "![X-ray projection with Poisson noise](https://github.com/effepivi/gvxr-tutorials/blob/main/PoissonNoise/noisy-projection.png?raw=1)\n",
    "\n",
    "4. Simulate a CT scan\n",
    "\n",
    "![Scanning eometry](https://github.com/effepivi/gvxr-tutorials/blob/main/PoissonNoise/CT-geometry.png?raw=1)\n",
    "\n",
    "5. Create the flat-field images with the corresponding amount of Photonic noise\n",
    "\n",
    "![Average flat-field image with Poisson noise](https://github.com/effepivi/gvxr-tutorials/blob/main/PoissonNoise/average-flat-field.png?raw=1)\n",
    "\n",
    "6. Reconstruct the CT volume using the [Core Imaging Library (CIL)](https://ccpi.ac.uk/cil/)\n",
    "\n",
    "![Visualisation of the reconstructed 3D volume](https://github.com/effepivi/gvxr-tutorials/blob/main/PoissonNoise/plotCT.png?raw=1) -->"
   ]
  },
  {
   "cell_type": "code",
   "execution_count": 1,
   "metadata": {
    "colab": {
     "base_uri": "https://localhost:8080/"
    },
    "id": "afBQI7ecKAJI",
    "outputId": "eeb9cb13-9011-4870-a53e-af6e3d996c7b",
    "tags": []
   },
   "outputs": [],
   "source": [
    "# !pip install -q condacolab\n",
    "# import condacolab\n",
    "# condacolab.install()"
   ]
  },
  {
   "cell_type": "markdown",
   "metadata": {
    "id": "E-UslIEgsMO6"
   },
   "source": [
    "?\n",
    "\n",
    "<!-- # Install gVXR, k3D, imagecodecs xpecgen, spekpy and SimpleITK\n",
    "\n",
    "Run the cell below\n",
    "\n",
    "```python\n",
    "!pip3 install gvxr k3d imagecodecs xpecgen git+https://bitbucket.org/spekpy/spekpy_release.git SimpleITK #itk-rtk\n",
    "``` -->"
   ]
  },
  {
   "cell_type": "code",
   "execution_count": 2,
   "metadata": {
    "colab": {
     "base_uri": "https://localhost:8080/"
    },
    "id": "nIwHxIersKFV",
    "outputId": "1a1d8e7f-cf95-4a3d-f85f-13764c616262",
    "tags": []
   },
   "outputs": [],
   "source": [
    "# !pip3 install gvxr k3d imagecodecs xpecgen git+https://bitbucket.org/spekpy/spekpy_release.git SimpleITK #itk-rtk"
   ]
  },
  {
   "cell_type": "code",
   "execution_count": 3,
   "metadata": {
    "colab": {
     "base_uri": "https://localhost:8080/"
    },
    "id": "xbeeJzq4KMsd",
    "outputId": "92bbae56-8b55-4a47-cc49-8337b9964895",
    "tags": []
   },
   "outputs": [],
   "source": [
    "# !mamba install -c conda-forge -c intel -c astra-toolbox -c ccpi cil numpy astra-toolbox --quiet"
   ]
  },
  {
   "cell_type": "code",
   "execution_count": 4,
   "metadata": {
    "id": "gT91YoKWr_X7",
    "tags": []
   },
   "outputs": [],
   "source": [
    "%matplotlib inline"
   ]
  },
  {
   "cell_type": "markdown",
   "metadata": {
    "id": "4Fz5nj7Jfg2t"
   },
   "source": [
    "# Copy files\n",
    "\n",
    "This step is needed when the notebook is executed using Goggle Collaborative"
   ]
  },
  {
   "cell_type": "markdown",
   "metadata": {
    "id": "7n8TXQazdCko"
   },
   "source": [
    "Download the Sample if needed"
   ]
  },
  {
   "cell_type": "code",
   "execution_count": 5,
   "metadata": {
    "id": "uOAnJr8dcSDP",
    "tags": []
   },
   "outputs": [],
   "source": [
    "import os\n",
    "import urllib.request\n",
    "import matplotlib.pyplot as plt # Plotting\n",
    "\n",
    "output_path = \"../output_data/Illustrations\"\n",
    "\n",
    "def createDirectory(directory):\n",
    "    # The directory does not exist\n",
    "    if not os.path.exists(os.path.abspath(directory)):\n",
    "    \n",
    "        # Create the directory\n",
    "        os.mkdir(os.path.abspath(directory))\n",
    "\n",
    "def downloadFile(fname):\n",
    "    if not os.path.exists(fname):\n",
    "        base_url = \"https://github.com/effepivi/gvxr-tutorials/raw/main\"\n",
    "        url = base_url + \"/\" + fname\n",
    "        print(\"Download the polygon mesh (%s)\" % fname)\n",
    "        urllib.request.urlretrieve(url, fname)\n",
    "\n",
    "createDirectory(\"../JSON\")\n",
    "createDirectory(\"../input_data\")\n",
    "createDirectory(\"../output_data\")\n",
    "createDirectory(output_path)\n",
    "\n",
    "# downloadFile(\"input_data/welsh-dragon-small.stl\")\n",
    "# downloadFile(\"energyResponseDetector.txt\")\n",
    "# downloadFile(\"JSON/PoissonNoise.json\")\n",
    "# downloadFile(\"output_data/visualisation.png\")"
   ]
  },
  {
   "cell_type": "code",
   "execution_count": 6,
   "metadata": {
    "colab": {
     "base_uri": "https://localhost:8080/"
    },
    "id": "LVf5r2Cnfg2w",
    "outputId": "0f8318e8-9e24-487c-a341-bfb8c0f4f30f",
    "tags": []
   },
   "outputs": [
    {
     "name": "stdout",
     "output_type": "stream",
     "text": [
      "K3D is not install, you won't be able to visualise the 3D scene using k3D\n",
      "spekpy is not install, you won't be able to load a beam spectrum using spekpy\n",
      "SimpleGVXR 2.0.5 (2023-03-09T10:57:28) [Compiler: GNU g++] on Linux\n",
      "gVirtualXRay core library (gvxr) 2.0.5 (2023-03-09T10:57:28) [Compiler: GNU g++] on Linux\n"
     ]
    }
   ],
   "source": [
    "# import glob\n",
    "\n",
    "import json\n",
    "\n",
    "# from IPython.display import display\n",
    "# from IPython.display import Image\n",
    "\n",
    "# import matplotlib.pyplot as plt # Plotting\n",
    "import numpy as np\n",
    "\n",
    "# from tifffile import imread, imwrite\n",
    "\n",
    "# from IPython.display import display\n",
    "# from IPython.display import Image\n",
    "\n",
    "# import SimpleITK as sitk\n",
    "\n",
    "import matplotlib\n",
    "import matplotlib.pyplot as plt # Plotting\n",
    "\n",
    "font = {'family' : 'serif',\n",
    "        #'weight' : 'bold',\n",
    "         'size'   : 25.5\n",
    "       }\n",
    "matplotlib.rc('font', **font)\n",
    "matplotlib.rc('text', usetex=True)\n",
    "\n",
    "\n",
    "# # import itk\n",
    "# # from itk import RTK as rtk\n",
    "\n",
    "# has_cil = True\n",
    "# try:\n",
    "#     # from cil.utilities.jupyter import islicer\n",
    "#     from cil.processors import TransmissionAbsorptionConverter\n",
    "#     from cil.utilities.display import show_geometry, show2D\n",
    "#     from cil.recon import FBP, FDK\n",
    "#     from cil.plugins.astra.processors.FDK_Flexible import FDK_Flexible\n",
    "#     print(\"CIL detected\")\n",
    "# except:\n",
    "#     has_cil = False\n",
    "#     print(\"CIL not detected\")\n",
    "    \n",
    "# has_tigre = True\n",
    "# try:\n",
    "#     import tigre\n",
    "#     print(\"Tigre detected\")\n",
    "# except:\n",
    "#     has_tigre = False\n",
    "#     print(\"Tigre not detected\")\n",
    "\n",
    "# from ipywidgets import interact\n",
    "# import ipywidgets as widgets\n",
    "\n",
    "# import base64\n",
    "\n",
    "import random\n",
    "\n",
    "from gvxrPython3 import gvxr\n",
    "from gvxrPython3 import json2gvxr\n",
    "# from gvxrPython3.utils import visualise\n",
    "from gvxrPython3.utils import plotScreenshot\n",
    "# from gvxrPython3.utils import interactPlotPowerLaw # Plot the X-ray image using a Power law look-up table\n",
    "# from gvxrPython3.utils import saveProjections # Plot the X-ray image in linear, log and power law scales\n",
    "\n",
    "# if has_cil:\n",
    "#     from gvxrPython3.JSON2gVXRDataReader import *\n",
    "\n",
    "from gvxrPython3.JSON2gVXRDataReader import *\n",
    "from cil.recon import FDK"
   ]
  },
  {
   "cell_type": "markdown",
   "metadata": {
    "id": "5VxBT2KKfg2x"
   },
   "source": [
    "## Initialise GVXR using our JSON file"
   ]
  },
  {
   "cell_type": "code",
   "execution_count": 7,
   "metadata": {
    "colab": {
     "base_uri": "https://localhost:8080/"
    },
    "id": "wR_3_q99fg2x",
    "outputId": "20faf839-ca7b-4af8-ed92-48f6296bab7c",
    "tags": []
   },
   "outputs": [
    {
     "name": "stdout",
     "output_type": "stream",
     "text": [
      "Create an OpenGL context: 900x350\n"
     ]
    },
    {
     "name": "stderr",
     "output_type": "stream",
     "text": [
      "Fri Mar 17 16:54:28 2023 ---- Create window (ID: -1)\n",
      "Fri Mar 17 16:54:28 2023 ---- Initialise GLFW\n",
      "Fri Mar 17 16:54:28 2023 ---- Create an OpenGL window with a 3.2 context.\n",
      "Fri Mar 17 16:54:29 2023 ---- Make the window's context current\n",
      "Fri Mar 17 16:54:29 2023 ---- Initialise GLEW\n",
      "Fri Mar 17 16:54:29 2023 ---- OpenGL vendor: NVIDIA Corporation\n",
      "Fri Mar 17 16:54:29 2023 ---- OpenGL renderer: NVIDIA GeForce RTX 2080 Ti/PCIe/SSE2\n",
      "Fri Mar 17 16:54:29 2023 ---- OpenGL version: 3.2.0 NVIDIA 515.76\n",
      "Fri Mar 17 16:54:29 2023 ---- Use OpenGL 4.5.\n",
      "Fri Mar 17 16:54:29 2023 ---- Initialise the X-ray renderer if needed and if possible\n"
     ]
    }
   ],
   "source": [
    "json_fname = \"../JSON/Slide.json\"\n",
    "json2gvxr.initGVXR(json_fname, renderer=\"OPENGL\")"
   ]
  },
  {
   "cell_type": "code",
   "execution_count": 8,
   "metadata": {
    "tags": []
   },
   "outputs": [
    {
     "name": "stdout",
     "output_type": "stream",
     "text": [
      "Load the 3D data\n",
      "\n",
      "\tLoad internals in /home/fpvidal/PROGRAMMING/GitHub/gVXR2CIL/JSON/../input_data/TurboPump/internals.stl using mm\n"
     ]
    },
    {
     "name": "stderr",
     "output_type": "stream",
     "text": [
      "Fri Mar 17 16:54:29 2023 ---- file_name:\t/home/fpvidal/PROGRAMMING/GitHub/gVXR2CIL/JSON/../input_data/TurboPump/internals.stl\tnb_faces:\t86276\tnb_vertices:\t258828\tbounding_box (in cm):\t(-3.48613, -5.55, -3.48613)\t(3.48613, -0.735, 3.48613)\n"
     ]
    },
    {
     "name": "stdout",
     "output_type": "stream",
     "text": [
      "\tLoad front_flange in /home/fpvidal/PROGRAMMING/GitHub/gVXR2CIL/JSON/../input_data/TurboPump/front_flange.stl using mm\n",
      "\tLoad rear_flage in /home/fpvidal/PROGRAMMING/GitHub/gVXR2CIL/JSON/../input_data/TurboPump/rear_flange.stl using mm\n",
      "\tLoad housing in /home/fpvidal/PROGRAMMING/GitHub/gVXR2CIL/JSON/../input_data/TurboPump/housing.stl using mm\n",
      "\tLoad roller_bearing in /home/fpvidal/PROGRAMMING/GitHub/gVXR2CIL/JSON/../input_data/TurboPump/ThrustRollerBearing.stl using mm\n",
      "Bounding box: [-28.82575225830078, -29.8372802734375, -19.06999969482422] [28.825754165649414, 29.8372802734375, 19.07000160217285]\n",
      "Bounding box centre: [9.5367431640625e-07, 0.0, 9.5367431640625e-07]\n"
     ]
    },
    {
     "name": "stderr",
     "output_type": "stream",
     "text": [
      "Fri Mar 17 16:54:29 2023 ---- file_name:\t/home/fpvidal/PROGRAMMING/GitHub/gVXR2CIL/JSON/../input_data/TurboPump/front_flange.stl\tnb_faces:\t6120\tnb_vertices:\t18360\tbounding_box (in cm):\t(-11.425, 0, -11.425)\t(11.425, 3.535, 11.425)\n",
      "Fri Mar 17 16:54:29 2023 ---- file_name:\t/home/fpvidal/PROGRAMMING/GitHub/gVXR2CIL/JSON/../input_data/TurboPump/rear_flange.stl\tnb_faces:\t10516\tnb_vertices:\t31548\tbounding_box (in cm):\t(-11.425, -15.535, -11.425)\t(11.425, -6.73, 11.425)\n",
      "Fri Mar 17 16:54:29 2023 ---- file_name:\t/home/fpvidal/PROGRAMMING/GitHub/gVXR2CIL/JSON/../input_data/TurboPump/housing.stl\tnb_faces:\t35076\tnb_vertices:\t105228\tbounding_box (in cm):\t(-12.3086, -8.5025, -14.9408)\t(16.5171, 1.8975, 14.8965)\n",
      "Fri Mar 17 16:54:29 2023 ---- file_name:\t/home/fpvidal/PROGRAMMING/GitHub/gVXR2CIL/JSON/../input_data/TurboPump/ThrustRollerBearing.stl\tnb_faces:\t26384\tnb_vertices:\t79152\tbounding_box (in cm):\t(-6.25, -9.27, -6.25)\t(6.25, -6.77, 6.25)\n"
     ]
    }
   ],
   "source": [
    "json2gvxr.initSamples(verbose=1)\n",
    "gvxr.moveToCentre()\n",
    "\n",
    "ID = \"root\"\n",
    "min_x, min_y, min_z, max_x, max_y, max_z = gvxr.getNodeAndChildrenBoundingBox(ID, \"mm\")\n",
    "\n",
    "centre_x = (min_x + max_x) / 2.0\n",
    "centre_y = (min_y + max_y) / 2.0\n",
    "centre_z = (min_z + max_z) / 2.0\n",
    "\n",
    "print(\"Bounding box:\", [min_x, min_y, min_z], [max_x, max_y, max_z])\n",
    "print(\"Bounding box centre:\", [centre_x, centre_y, centre_z])"
   ]
  },
  {
   "cell_type": "code",
   "execution_count": 9,
   "metadata": {
    "tags": []
   },
   "outputs": [],
   "source": [
    "spectrum, unit_of_energy, energy_set, bin_sets = json2gvxr.initSpectrum(verbose=0)"
   ]
  },
  {
   "cell_type": "code",
   "execution_count": 10,
   "metadata": {
    "tags": []
   },
   "outputs": [
    {
     "data": {
      "image/png": "[encoded data removed]",
      "text/plain": [
       "<Figure size 2000x1000 with 1 Axes>"
      ]
     },
     "metadata": {},
     "output_type": "display_data"
    }
   ],
   "source": [
    "plt.figure(figsize= (20,10))\n",
    "plt.title(\"Beam spectrum\")\n",
    "plt.bar(energy_set, bin_sets, width=1)\n",
    "plt.xlabel('Energy in ' + unit_of_energy)\n",
    "plt.ylabel('Probability distribution of\\n photons per keV')\n",
    "plt.savefig(output_path + \"/spectrum.png\")"
   ]
  },
  {
   "cell_type": "code",
   "execution_count": 11,
   "metadata": {
    "tags": []
   },
   "outputs": [
    {
     "name": "stdout",
     "output_type": "stream",
     "text": [
      "Set up the detector\n",
      "\tDetector position: [-150, 0, 0, 'mm']\n",
      "\tDetector up vector: [0, 0, 1]\n",
      "\tNumber of pixels: [900, 900]\n",
      "\tDetector number of pixels: [900, 900]\n",
      "\tPixel spacing: [0.2, 0.2, 'mm']\n",
      "Set up the beam\n",
      "\tSource position: [200, 0, 0, 'mm']\n",
      "\tSource shape: Point\n"
     ]
    },
    {
     "name": "stderr",
     "output_type": "stream",
     "text": [
      "Fri Mar 17 16:54:33 2023 ---- Initialise the renderer\n"
     ]
    }
   ],
   "source": [
    "json2gvxr.initDetector(json_fname)\n",
    "json2gvxr.initSourceGeometry()"
   ]
  },
  {
   "cell_type": "code",
   "execution_count": 12,
   "metadata": {
    "tags": []
   },
   "outputs": [],
   "source": [
    "zoom = 350\n",
    "\n",
    "gvxr.displayScene()\n",
    "gvxr.setZoom(zoom)\n",
    "gvxr.displayScene()\n",
    "\n",
    "matrix = gvxr.getSceneRotationMatrix()"
   ]
  },
  {
   "cell_type": "code",
   "execution_count": 13,
   "metadata": {
    "tags": []
   },
   "outputs": [],
   "source": [
    "gvxr.setWindowBackGroundColour(1,1,1)\n",
    "gvxr.displayBeam(False)\n",
    "gvxr.displayScene()"
   ]
  },
  {
   "cell_type": "code",
   "execution_count": 14,
   "metadata": {
    "tags": []
   },
   "outputs": [],
   "source": [
    "fname = output_path + '/s0.png'\n",
    "\n",
    "if not os.path.exists(fname):\n",
    "    screenshot = np.array(gvxr.takeScreenshot(), dtype=np.single)\n",
    "    matplotlib.image.imsave(fname, screenshot)"
   ]
  },
  {
   "cell_type": "code",
   "execution_count": 15,
   "metadata": {},
   "outputs": [],
   "source": [
    "fname = output_path + '/s2.png'\n",
    "\n",
    "if not os.path.exists(fname):\n",
    "    screenshot = np.array(gvxr.takeScreenshot(), dtype=np.single)\n",
    "    matplotlib.image.imsave(fname, screenshot)"
   ]
  },
  {
   "cell_type": "code",
   "execution_count": 16,
   "metadata": {},
   "outputs": [],
   "source": [
    "gvxr.displayBeam(True)\n",
    "gvxr.displayScene()"
   ]
  },
  {
   "cell_type": "code",
   "execution_count": 17,
   "metadata": {},
   "outputs": [],
   "source": [
    "fname = output_path + '/s3.png'\n",
    "\n",
    "if not os.path.exists(fname):\n",
    "    screenshot = np.array(gvxr.takeScreenshot(), dtype=np.single)\n",
    "    matplotlib.image.imsave(fname, screenshot)"
   ]
  },
  {
   "cell_type": "code",
   "execution_count": 18,
   "metadata": {
    "tags": []
   },
   "outputs": [],
   "source": [
    "projection_in_MeV = np.array(gvxr.computeXRayImage(), dtype=np.single)\n",
    "projection_in_keV = projection_in_MeV / gvxr.getUnitOfEnergy(\"keV\")\n",
    "gvxr.displayScene()"
   ]
  },
  {
   "cell_type": "code",
   "execution_count": 19,
   "metadata": {},
   "outputs": [],
   "source": [
    "fname = output_path + '/s4.png'\n",
    "\n",
    "if not os.path.exists(fname):\n",
    "    screenshot = np.array(gvxr.takeScreenshot(), dtype=np.single)\n",
    "    matplotlib.image.imsave(fname, screenshot)"
   ]
  },
  {
   "cell_type": "code",
   "execution_count": 20,
   "metadata": {
    "tags": []
   },
   "outputs": [
    {
     "name": "stdout",
     "output_type": "stream",
     "text": [
      "Set up the CT Scan\n"
     ]
    }
   ],
   "source": [
    "json2gvxr.initScan(json_fname)\n",
    "gvxr.setSceneRotationMatrix(matrix)\n",
    "gvxr.setZoom(zoom)"
   ]
  },
  {
   "cell_type": "code",
   "execution_count": 21,
   "metadata": {
    "tags": []
   },
   "outputs": [],
   "source": [
    "angles = json2gvxr.doCTScan(verbose=False)"
   ]
  },
  {
   "cell_type": "code",
   "execution_count": null,
   "metadata": {
    "id": "CHsXXmYBr_Yo",
    "tags": []
   },
   "outputs": [],
   "source": [
    "gvxr.terminate()"
   ]
  },
  {
   "cell_type": "code",
   "execution_count": 25,
   "metadata": {
    "tags": []
   },
   "outputs": [
    {
     "ename": "ModuleNotFoundError",
     "evalue": "No module named 'cil'",
     "output_type": "error",
     "traceback": [
      "\u001b[0;31m---------------------------------------------------------------------------\u001b[0m",
      "\u001b[0;31mModuleNotFoundError\u001b[0m                       Traceback (most recent call last)",
      "Cell \u001b[0;32mIn[25], line 1\u001b[0m\n\u001b[0;32m----> 1\u001b[0m \u001b[38;5;28;01mfrom\u001b[39;00m \u001b[38;5;21;01mcil\u001b[39;00m\u001b[38;5;21;01m.\u001b[39;00m\u001b[38;5;21;01mrecon\u001b[39;00m \u001b[38;5;28;01mimport\u001b[39;00m FDK\n\u001b[1;32m      2\u001b[0m \u001b[38;5;28;01mfrom\u001b[39;00m \u001b[38;5;21;01mgvxrPython3\u001b[39;00m\u001b[38;5;21;01m.\u001b[39;00m\u001b[38;5;21;01mJSON2gVXRDataReader\u001b[39;00m \u001b[38;5;28;01mimport\u001b[39;00m \u001b[38;5;241m*\u001b[39m\n",
      "\u001b[0;31mModuleNotFoundError\u001b[0m: No module named 'cil'"
     ]
    }
   ],
   "source": []
  },
  {
   "cell_type": "code",
   "execution_count": null,
   "metadata": {},
   "outputs": [],
   "source": [
    "reader = JSON2gVXRDataReader(file_name=json_fname)\n",
    "data = reader.read()"
   ]
  },
  {
   "cell_type": "code",
   "execution_count": null,
   "metadata": {},
   "outputs": [],
   "source": [
    "show_geometry(data.geometry)"
   ]
  },
  {
   "cell_type": "code",
   "execution_count": null,
   "metadata": {},
   "outputs": [],
   "source": [
    "data.reorder(order='tigre')\n",
    "data_corr = TransmissionAbsorptionConverter(white_level=data.max())(data)"
   ]
  },
  {
   "cell_type": "code",
   "execution_count": null,
   "metadata": {},
   "outputs": [],
   "source": [
    "ig = data.geometry.get_ImageGeometry()\n",
    "\n",
    "# ig.voxel_num_x = 600\n",
    "# ig.voxel_num_y = 600\n",
    "# ig.voxel_num_z = 700\n",
    "\n",
    "recons = FDK(data_corr, ig).run()"
   ]
  },
  {
   "cell_type": "code",
   "execution_count": null,
   "metadata": {},
   "outputs": [],
   "source": [
    "islicer(recons, direction='vertical')"
   ]
  },
  {
   "cell_type": "code",
   "execution_count": null,
   "metadata": {},
   "outputs": [],
   "source": [
    "islicer(recons, direction='horizontal_x')"
   ]
  },
  {
   "cell_type": "code",
   "execution_count": null,
   "metadata": {},
   "outputs": [],
   "source": []
  }
 ],
 "metadata": {
  "accelerator": "GPU",
  "colab": {
   "include_colab_link": true,
   "provenance": []
  },
  "gpuClass": "standard",
  "kernelspec": {
   "display_name": "Python 3 (ipykernel)",
   "language": "python",
   "name": "python3"
  },
  "language_info": {
   "codemirror_mode": {
    "name": "ipython",
    "version": 3
   },
   "file_extension": ".py",
   "mimetype": "text/x-python",
   "name": "python",
   "nbconvert_exporter": "python",
   "pygments_lexer": "ipython3",
   "version": "3.9.16"
  },
  "vscode": {
   "interpreter": {
    "hash": "7cb52200ce58d0990af40dfb29272ed58ebf24dc16709b96f71cbdb887d325ae"
   }
  },
  "widgets": {
   "application/vnd.jupyter.widget-state+json": {
    "0a53550cf0384515a052deeed8fd4d45": {
     "model_module": "@jupyter-widgets/controls",
     "model_module_version": "2.0.0",
     "model_name": "SliderStyleModel",
     "state": {
      "_model_module": "@jupyter-widgets/controls",
      "_model_module_version": "2.0.0",
      "_model_name": "SliderStyleModel",
      "_view_count": null,
      "_view_module": "@jupyter-widgets/base",
      "_view_module_version": "2.0.0",
      "_view_name": "StyleView",
      "description_width": "",
      "handle_color": null
     }
    },
    "38a0026d5f074032a7e9b03833b2c397": {
     "model_module": "@jupyter-widgets/base",
     "model_module_version": "2.0.0",
     "model_name": "LayoutModel",
     "state": {
      "_model_module": "@jupyter-widgets/base",
      "_model_module_version": "2.0.0",
      "_model_name": "LayoutModel",
      "_view_count": null,
      "_view_module": "@jupyter-widgets/base",
      "_view_module_version": "2.0.0",
      "_view_name": "LayoutView",
      "align_content": null,
      "align_items": null,
      "align_self": null,
      "border_bottom": null,
      "border_left": null,
      "border_right": null,
      "border_top": null,
      "bottom": null,
      "display": null,
      "flex": null,
      "flex_flow": null,
      "grid_area": null,
      "grid_auto_columns": null,
      "grid_auto_flow": null,
      "grid_auto_rows": null,
      "grid_column": null,
      "grid_gap": null,
      "grid_row": null,
      "grid_template_areas": null,
      "grid_template_columns": null,
      "grid_template_rows": null,
      "height": null,
      "justify_content": null,
      "justify_items": null,
      "left": null,
      "margin": null,
      "max_height": null,
      "max_width": null,
      "min_height": null,
      "min_width": null,
      "object_fit": null,
      "object_position": null,
      "order": null,
      "overflow": null,
      "padding": null,
      "right": null,
      "top": null,
      "visibility": null,
      "width": null
     }
    },
    "4454d7fe14f64962a4fb2de555c0ae84": {
     "model_module": "@jupyter-widgets/base",
     "model_module_version": "2.0.0",
     "model_name": "LayoutModel",
     "state": {
      "_model_module": "@jupyter-widgets/base",
      "_model_module_version": "2.0.0",
      "_model_name": "LayoutModel",
      "_view_count": null,
      "_view_module": "@jupyter-widgets/base",
      "_view_module_version": "2.0.0",
      "_view_name": "LayoutView",
      "align_content": null,
      "align_items": null,
      "align_self": null,
      "border_bottom": null,
      "border_left": null,
      "border_right": null,
      "border_top": null,
      "bottom": null,
      "display": null,
      "flex": null,
      "flex_flow": null,
      "grid_area": null,
      "grid_auto_columns": null,
      "grid_auto_flow": null,
      "grid_auto_rows": null,
      "grid_column": null,
      "grid_gap": null,
      "grid_row": null,
      "grid_template_areas": null,
      "grid_template_columns": null,
      "grid_template_rows": null,
      "height": null,
      "justify_content": null,
      "justify_items": null,
      "left": null,
      "margin": null,
      "max_height": null,
      "max_width": null,
      "min_height": null,
      "min_width": null,
      "object_fit": null,
      "object_position": null,
      "order": null,
      "overflow": null,
      "padding": null,
      "right": null,
      "top": null,
      "visibility": null,
      "width": null
     }
    },
    "4f2a436955474eda8958b9290579919f": {
     "model_module": "@jupyter-widgets/controls",
     "model_module_version": "2.0.0",
     "model_name": "IntSliderModel",
     "state": {
      "_dom_classes": [],
      "_model_module": "@jupyter-widgets/controls",
      "_model_module_version": "2.0.0",
      "_model_name": "IntSliderModel",
      "_view_count": null,
      "_view_module": "@jupyter-widgets/controls",
      "_view_module_version": "2.0.0",
      "_view_name": "IntSliderView",
      "behavior": "drag-tap",
      "continuous_update": true,
      "description": "Number of flat images:",
      "description_allow_html": false,
      "disabled": false,
      "layout": "IPY_MODEL_7d6b30a77faf4a43a9d1018d28f75833",
      "max": 500,
      "min": 1,
      "orientation": "horizontal",
      "readout": true,
      "readout_format": "d",
      "step": 1,
      "style": "IPY_MODEL_fce34359209243a797222091281b1254",
      "tabbable": null,
      "tooltip": null,
      "value": 25
     }
    },
    "4f6309eb9ba14b8aab01e44defcc5ec8": {
     "model_module": "@jupyter-widgets/controls",
     "model_module_version": "2.0.0",
     "model_name": "IntSliderModel",
     "state": {
      "_dom_classes": [],
      "_model_module": "@jupyter-widgets/controls",
      "_model_module_version": "2.0.0",
      "_model_name": "IntSliderModel",
      "_view_count": null,
      "_view_module": "@jupyter-widgets/controls",
      "_view_module_version": "2.0.0",
      "_view_name": "IntSliderView",
      "behavior": "drag-tap",
      "continuous_update": true,
      "description": "Photons/pixels",
      "description_allow_html": false,
      "disabled": false,
      "layout": "IPY_MODEL_5d2dd2dcb0884257b89e57a559af4954",
      "max": 50000,
      "min": 10,
      "orientation": "horizontal",
      "readout": true,
      "readout_format": "d",
      "step": 10,
      "style": "IPY_MODEL_0a53550cf0384515a052deeed8fd4d45",
      "tabbable": null,
      "tooltip": null,
      "value": 5000
     }
    },
    "5d2dd2dcb0884257b89e57a559af4954": {
     "model_module": "@jupyter-widgets/base",
     "model_module_version": "2.0.0",
     "model_name": "LayoutModel",
     "state": {
      "_model_module": "@jupyter-widgets/base",
      "_model_module_version": "2.0.0",
      "_model_name": "LayoutModel",
      "_view_count": null,
      "_view_module": "@jupyter-widgets/base",
      "_view_module_version": "2.0.0",
      "_view_name": "LayoutView",
      "align_content": null,
      "align_items": null,
      "align_self": null,
      "border_bottom": null,
      "border_left": null,
      "border_right": null,
      "border_top": null,
      "bottom": null,
      "display": null,
      "flex": null,
      "flex_flow": null,
      "grid_area": null,
      "grid_auto_columns": null,
      "grid_auto_flow": null,
      "grid_auto_rows": null,
      "grid_column": null,
      "grid_gap": null,
      "grid_row": null,
      "grid_template_areas": null,
      "grid_template_columns": null,
      "grid_template_rows": null,
      "height": null,
      "justify_content": null,
      "justify_items": null,
      "left": null,
      "margin": null,
      "max_height": null,
      "max_width": null,
      "min_height": null,
      "min_width": null,
      "object_fit": null,
      "object_position": null,
      "order": null,
      "overflow": null,
      "padding": null,
      "right": null,
      "top": null,
      "visibility": null,
      "width": null
     }
    },
    "7d6b30a77faf4a43a9d1018d28f75833": {
     "model_module": "@jupyter-widgets/base",
     "model_module_version": "2.0.0",
     "model_name": "LayoutModel",
     "state": {
      "_model_module": "@jupyter-widgets/base",
      "_model_module_version": "2.0.0",
      "_model_name": "LayoutModel",
      "_view_count": null,
      "_view_module": "@jupyter-widgets/base",
      "_view_module_version": "2.0.0",
      "_view_name": "LayoutView",
      "align_content": null,
      "align_items": null,
      "align_self": null,
      "border_bottom": null,
      "border_left": null,
      "border_right": null,
      "border_top": null,
      "bottom": null,
      "display": null,
      "flex": null,
      "flex_flow": null,
      "grid_area": null,
      "grid_auto_columns": null,
      "grid_auto_flow": null,
      "grid_auto_rows": null,
      "grid_column": null,
      "grid_gap": null,
      "grid_row": null,
      "grid_template_areas": null,
      "grid_template_columns": null,
      "grid_template_rows": null,
      "height": null,
      "justify_content": null,
      "justify_items": null,
      "left": null,
      "margin": null,
      "max_height": null,
      "max_width": null,
      "min_height": null,
      "min_width": null,
      "object_fit": null,
      "object_position": null,
      "order": null,
      "overflow": null,
      "padding": null,
      "right": null,
      "top": null,
      "visibility": null,
      "width": null
     }
    },
    "c0930a22e92b4de7992570856e0dc2d9": {
     "model_module": "@jupyter-widgets/output",
     "model_module_version": "1.0.0",
     "model_name": "OutputModel",
     "state": {
      "_dom_classes": [],
      "_model_module": "@jupyter-widgets/output",
      "_model_module_version": "1.0.0",
      "_model_name": "OutputModel",
      "_view_count": null,
      "_view_module": "@jupyter-widgets/output",
      "_view_module_version": "1.0.0",
      "_view_name": "OutputView",
      "layout": "IPY_MODEL_4454d7fe14f64962a4fb2de555c0ae84",
      "msg_id": "",
      "outputs": [
       {
        "data": {
         "image/png": "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\n",
         "text/plain": "<Figure size 720x360 with 1 Axes>"
        },
        "metadata": {},
        "output_type": "display_data"
       }
      ],
      "tabbable": null,
      "tooltip": null
     }
    },
    "e4cb75a1c9c547a880ba14b5e6ca266a": {
     "model_module": "@jupyter-widgets/controls",
     "model_module_version": "2.0.0",
     "model_name": "VBoxModel",
     "state": {
      "_dom_classes": [
       "widget-interact"
      ],
      "_model_module": "@jupyter-widgets/controls",
      "_model_module_version": "2.0.0",
      "_model_name": "VBoxModel",
      "_view_count": null,
      "_view_module": "@jupyter-widgets/controls",
      "_view_module_version": "2.0.0",
      "_view_name": "VBoxView",
      "box_style": "",
      "children": [
       "IPY_MODEL_4f6309eb9ba14b8aab01e44defcc5ec8",
       "IPY_MODEL_c0930a22e92b4de7992570856e0dc2d9"
      ],
      "layout": "IPY_MODEL_38a0026d5f074032a7e9b03833b2c397",
      "tabbable": null,
      "tooltip": null
     }
    },
    "fce34359209243a797222091281b1254": {
     "model_module": "@jupyter-widgets/controls",
     "model_module_version": "2.0.0",
     "model_name": "SliderStyleModel",
     "state": {
      "_model_module": "@jupyter-widgets/controls",
      "_model_module_version": "2.0.0",
      "_model_name": "SliderStyleModel",
      "_view_count": null,
      "_view_module": "@jupyter-widgets/base",
      "_view_module_version": "2.0.0",
      "_view_name": "StyleView",
      "description_width": "",
      "handle_color": null
     }
    }
   }
  }
 },
 "nbformat": 4,
 "nbformat_minor": 4
}
